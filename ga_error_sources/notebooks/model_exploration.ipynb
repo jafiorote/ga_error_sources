{
 "cells": [
  {
   "cell_type": "markdown",
   "id": "be038e93-7c78-4517-9e85-4a7b5fd59ec1",
   "metadata": {},
   "source": [
    "# **GA Error Sources usage**"
   ]
  },
  {
   "cell_type": "code",
   "execution_count": 17,
   "id": "c87446b2-01c6-4888-bed0-4e64ad6bbd2a",
   "metadata": {},
   "outputs": [
    {
     "name": "stdout",
     "output_type": "stream",
     "text": [
      "Warning: Cannot change to a different GUI toolkit: widget. Using notebook instead.\n"
     ]
    }
   ],
   "source": [
    "import os\n",
    "import sys\n",
    "\n",
    "path = os.getcwd().split(\"/\")[:-2]\n",
    "path = \"/\".join(path)\n",
    "sys.path.append(path)\n",
    "\n",
    "from ga_error_sources.model.normPSM import NormPSM\n",
    "from ga_error_sources.model.gaModel import GAModel\n",
    "from utils.plot_funcs import get_percentiles, custom_percentile_cmap, get_sticks\n",
    "from IPython.display import Image, display, HTML, SVG\n",
    "import numpy as np\n",
    "import math\n",
    "import time\n",
    "import pandas as pd\n",
    "from datetime import date\n",
    "\n",
    "import matplotlib.pyplot as plt\n",
    "from matplotlib import cm\n",
    "from mpl_toolkits.mplot3d import Axes3D \n",
    "import matplotlib.colors as colors\n",
    "import seaborn as sns\n",
    "sns.set(style=\"whitegrid\")\n",
    "%matplotlib notebook\n",
    "%matplotlib widget\n",
    "%matplotlib inline\n",
    "plt.style.use('seaborn-v0_8')\n",
    "plt.rcParams['legend.labelcolor'] = '#595959'\n",
    "plt.rcParams['axes.labelcolor'] = '#595959'\n",
    "plt.rcParams['xtick.color'] = '#595959'\n",
    "plt.rcParams['ytick.color'] = '#595959'\n",
    "plt.rcParams['lines.linewidth'] = 2\n",
    "plt.rcParams['axes.grid'] = False\n",
    "\n",
    "from pyinstrument import Profiler"
   ]
  },
  {
   "cell_type": "markdown",
   "id": "6fdcde3a-e451-42f3-a7e5-061ead9a0794",
   "metadata": {},
   "source": [
    "## **Initial Values of System**"
   ]
  },
  {
   "cell_type": "markdown",
   "id": "5eb81076-5439-4a25-b43a-b7d41455d96e",
   "metadata": {},
   "source": [
    "- **M**: *int* = Num of sequences;\n",
    "- **n_max**: *int* = Number of pairs in native arrangment, where n in {0, ..., M};\n",
    "- **n_bins**: *int* = Number of intervals in I;\n",
    "- **i_nat**: *float* = Value of i for native arrangment;\n",
    "- **i_0**: *float* = I mean for arrangments with n = 0;\n",
    "- **sigma2_0**: *float* = Variance of I for arrangments with n = 0;\n",
    "- **n_step**: *int* = Max n transition in genetic algorithm."
   ]
  },
  {
   "cell_type": "code",
   "execution_count": 18,
   "id": "74c544e2-8281-44a1-b7d0-92afb8df14d2",
   "metadata": {},
   "outputs": [],
   "source": [
    "M = 100\n",
    "n_max = M + 1 \n",
    "n_bins = M + 1 \n",
    "i_nat = 50\n",
    "i_0 = 30 \n",
    "sigma2_0 = 1\n",
    "n_step = 1"
   ]
  },
  {
   "cell_type": "markdown",
   "id": "547b3460-65ab-4f86-a6d2-3b751b4cd7cc",
   "metadata": {},
   "source": [
    "## **Protein System Model Instance**"
   ]
  },
  {
   "cell_type": "code",
   "execution_count": null,
   "id": "abbf4a28-5436-40cf-ac77-7df5bc2bf085",
   "metadata": {},
   "outputs": [],
   "source": []
  }
 ],
 "metadata": {
  "kernelspec": {
   "display_name": "Python 3 (ipykernel)",
   "language": "python",
   "name": "python3"
  },
  "language_info": {
   "codemirror_mode": {
    "name": "ipython",
    "version": 3
   },
   "file_extension": ".py",
   "mimetype": "text/x-python",
   "name": "python",
   "nbconvert_exporter": "python",
   "pygments_lexer": "ipython3",
   "version": "3.8.19"
  }
 },
 "nbformat": 4,
 "nbformat_minor": 5
}
